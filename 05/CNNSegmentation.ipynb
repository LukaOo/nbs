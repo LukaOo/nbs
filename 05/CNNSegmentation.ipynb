{
 "cells": [
  {
   "cell_type": "code",
   "execution_count": 3,
   "metadata": {
    "collapsed": true
   },
   "outputs": [],
   "source": [
    "import torch\n",
    "import torch.nn as nn\n",
    "import torch.utils.data as dt\n",
    "from PIL import Image\n",
    "import torchvision.transforms as transforms\n",
    "import os\n",
    "import numpy as np"
   ]
  },
  {
   "cell_type": "markdown",
   "metadata": {},
   "source": [
    "# <font size=10 color=blue> Еще задачи \"Computer Vision\" </font>\n",
    "![Segmentation](./img/Segment01.png)"
   ]
  },
  {
   "cell_type": "markdown",
   "metadata": {},
   "source": [
    "# <font size=10 color=blue> Семантическа сегментация (Semantic Segmentation) </font>\n",
    "![Segmentation](./img/Segment02.png)\n",
    "\n",
    "<font color=blue size=5>Делаем предположение только о пикселях, каким классам эти пиксели принадлежат</font>"
   ]
  },
  {
   "cell_type": "markdown",
   "metadata": {},
   "source": [
    "## Делаем сверточную сеть и решаем задачу классификации\n",
    "\n",
    "![Segmentation](./img/Segment03.png)\n",
    "\n",
    "<font color=red size=5>Основная проблема - это тяжелые сверточные слои. Каждая карта признаков слоя повторяет размер картинки</font>"
   ]
  },
  {
   "cell_type": "markdown",
   "metadata": {},
   "source": [
    "## Делаем сверточную сеть cо сверточными слоями:\n",
    "\n",
    "- <font color=red size=4>Downsampling</font>\n",
    "- <font color=blue size=4>Upsampling</font>\n",
    "\n",
    "![Segmentation](./img/Segment04.png)\n"
   ]
  },
  {
   "cell_type": "markdown",
   "metadata": {},
   "source": [
    "# Upsampling - unpooling\n",
    "![Segmentation](./img/Segment05.png)"
   ]
  },
  {
   "cell_type": "markdown",
   "metadata": {},
   "source": [
    "# \"Max unpooling\"\n",
    "![Segmentation](./img/Segment06.png)\n"
   ]
  },
  {
   "cell_type": "markdown",
   "metadata": {},
   "source": [
    "# Unpooling с параметрами"
   ]
  },
  {
   "cell_type": "markdown",
   "metadata": {},
   "source": [
    "## Свертка 3x3 stride 2 уменьшает входное изображение в два раза\n",
    "![Segmentation](./img/Segment07.png)\n",
    "### _ pooling _ с параметрами\n",
    "---"
   ]
  },
  {
   "cell_type": "markdown",
   "metadata": {},
   "source": [
    "## Транспонированная конволюция 3x3 stride 2 \n",
    "![Segmentation](./img/Segment08.png)\n",
    "\n",
    "### _ Stride _ задает соотношение в преобразовании"
   ]
  },
  {
   "cell_type": "markdown",
   "metadata": {},
   "source": [
    "# Пример транспонированной 1D конволюции\n",
    "![Segmentation](./img/Segment09.png)"
   ]
  },
  {
   "cell_type": "markdown",
   "metadata": {},
   "source": [
    "# Конволюция как операция перемножения матриц (1D)\n",
    "![Segmentation](./img/Segment10.png)"
   ]
  },
  {
   "cell_type": "markdown",
   "metadata": {},
   "source": [
    "# Практика\n",
    "Реализовать сверточную сеть для семантической сегментации\n",
    "- В файле model.py   - имплементировать заглушку модели\n",
    "- В в файле train.py - нужно поставить правильный loss\n",
    "\n",
    "### Зависимости\n",
    " - tensorflow  - поддержка tensorboard\n",
    " - tensorboardx - тензор боард для pytorch\n",
    " - tqdm         - пакет для отрисовки прогресс баров\n",
    "\n",
    "### Запуск пакета\n",
    "_ По умолчанию все данные лежат в папке ./data/. Если вы положили их в другую папку, то поправте в скрипте train.py пути _\n",
    "<br/>\n",
    "python train.py"
   ]
  },
  {
   "cell_type": "markdown",
   "metadata": {},
   "source": [
    "# <font size=10 color=blue> SegNet  </font>\n",
    "### _ [V. Badrinarayanan, 2016] _\n",
    "![Segmentation](./img/Segment11.png)\n",
    "\n",
    "<font color=blue size=5>При сегментации использовали перенос макс пулинга</font>"
   ]
  },
  {
   "cell_type": "markdown",
   "metadata": {},
   "source": [
    "# <font size=10 color=blue> U-Net  </font>\n",
    "### _ [O. Ronneberger, 2017] _\n",
    "![Segmentation](./img/Segment12.png)\n",
    "\n",
    "<font color=blue size=5>Используем \"shortcut\" для соедиение симметричных слоев из конволюций и деконволюций</font>"
   ]
  },
  {
   "cell_type": "markdown",
   "metadata": {},
   "source": [
    "# Практика\n",
    "Реализовать сверточную сеть для семантической сегментации по типу U-Net. Принцип как в предыдущем разделе практики - реализуем модель в model.py"
   ]
  },
  {
   "cell_type": "markdown",
   "metadata": {
    "collapsed": true
   },
   "source": [
    "# <font size=10 color=blue> Pyramid Scene Parsing Network  </font>\n",
    "### _ [H. Zhao, 2016] _"
   ]
  },
  {
   "cell_type": "markdown",
   "metadata": {},
   "source": [
    "![Segmentation](./img/Segment13.png)\n",
    "<font color=blue size=5>Обычная \"feedforward\" конволюционная сеть слепа к мелким деталям. Рецептивное поле на верхних слоях намного больше, чем само входное изображение. Это приводит к потере  детализации изображения</font>"
   ]
  },
  {
   "cell_type": "markdown",
   "metadata": {
    "collapsed": true
   },
   "source": [
    "![Segmentation](./img/Segment14.png)\n",
    "===\n",
    "<font color=blue size=5>Нужно рассмотреть картинку в различных разрешениях, организовав глобальный пулинг \"Pyramid Pooling Module\". В результате сеть получает возможность видеть больше деталей</font>"
   ]
  },
  {
   "cell_type": "markdown",
   "metadata": {},
   "source": [
    "- CNN - предобученный ResNet-101\n",
    "- Выходные панели пулинга апсамплятся и конкатенируются\n",
    "- Выход Spatial Softmax"
   ]
  },
  {
   "cell_type": "markdown",
   "metadata": {},
   "source": [
    "# <font size=10 color=blue> Atrous Spatial Pyramid Pooling </font>\n",
    "### _ [Chen, 2017] _\n",
    "\n",
    "![Segmentation](./img/Segment15.png)\n",
    "\n",
    "## Архитектуры сетей с расширением захвата разномаштабных элементов изображнения\n"
   ]
  },
  {
   "cell_type": "markdown",
   "metadata": {},
   "source": [
    "## Atrous convolution\n",
    "![Segmentation](./img/Segment16.png)\n",
    "\n",
    "$$ y[i] = \\sum_{k} x[i+r*k] w[i] $$\n",
    "\n",
    "* i - локация\n",
    "* y - выход \n",
    "* w - фильтр \n",
    "* x - вход\n",
    "* r - шаг дырки\n"
   ]
  },
  {
   "cell_type": "markdown",
   "metadata": {},
   "source": [
    "- Задача семантической сегментации не потерять детали\n",
    "- Пулинг заставляет сеть выучивать абстрактные представления фичей, теряя детали\n",
    "- Комбинации Atrous конволюций позволяют видеть изображение с разным разшением без увеличения количества параметров"
   ]
  },
  {
   "cell_type": "markdown",
   "metadata": {},
   "source": [
    "![Segmentation](./img/Segment17.png)\n",
    "## Atrous Spatial Pyramid Pooling\n",
    "В качестве базовой сети использовался ResNet.\n"
   ]
  },
  {
   "cell_type": "code",
   "execution_count": 23,
   "metadata": {},
   "outputs": [
    {
     "name": "stdout",
     "output_type": "stream",
     "text": [
      "General convolution -  torch.Size([1, 32, 224, 224]) torch.Size([32, 3, 3, 3])\n",
      "Atrous convolution -  torch.Size([1, 32, 214, 214]) torch.Size([32, 3, 3, 3])\n"
     ]
    }
   ],
   "source": [
    "input = torch.autograd.Variable( torch.rand((1,3,224,224)))\n",
    "\n",
    "atrous_conv = nn.Conv2d(in_channels=3, out_channels=32, kernel_size=3, stride=1, padding=1, dilation=6)\n",
    "conv        = nn.Conv2d(in_channels=3, out_channels=32, kernel_size=3, stride=1, padding=1, dilation=1)\n",
    "o = conv(input)\n",
    "print (\"General convolution - \", o.size(), conv.weight.size())\n",
    "o = atrous_conv(input)\n",
    "print (\"Atrous convolution - \", o.size(), atrous_conv.weight.size())\n"
   ]
  },
  {
   "cell_type": "code",
   "execution_count": null,
   "metadata": {
    "collapsed": true
   },
   "outputs": [],
   "source": []
  }
 ],
 "metadata": {
  "anaconda-cloud": {},
  "kernelspec": {
   "display_name": "Python [default]",
   "language": "python",
   "name": "python3"
  },
  "language_info": {
   "codemirror_mode": {
    "name": "ipython",
    "version": 3
   },
   "file_extension": ".py",
   "mimetype": "text/x-python",
   "name": "python",
   "nbconvert_exporter": "python",
   "pygments_lexer": "ipython3",
   "version": "3.6.3"
  }
 },
 "nbformat": 4,
 "nbformat_minor": 2
}
